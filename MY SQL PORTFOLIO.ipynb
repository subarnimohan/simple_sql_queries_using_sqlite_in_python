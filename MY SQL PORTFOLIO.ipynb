{
 "cells": [
  {
   "cell_type": "markdown",
   "metadata": {},
   "source": [
    "<h1> Creating a Simple SQL Database, Table and Running SQL queries </h1>"
   ]
  },
  {
   "cell_type": "code",
   "execution_count": 5,
   "metadata": {},
   "outputs": [],
   "source": [
    "#!pip install ipython-sql\n",
    "\n",
    "#importing all the relevant libraries\n",
    "\n",
    "import pandas as pd\n",
    "import sqlite3\n",
    "import datetime as dt\n",
    "import numpy as np"
   ]
  },
  {
   "cell_type": "code",
   "execution_count": 6,
   "metadata": {},
   "outputs": [
    {
     "name": "stdout",
     "output_type": "stream",
     "text": [
      "The sql extension is already loaded. To reload it, use:\n",
      "  %reload_ext sql\n"
     ]
    }
   ],
   "source": [
    "%load_ext sql"
   ]
  },
  {
   "cell_type": "markdown",
   "metadata": {},
   "source": [
    "<h2> Reading the skincare dataset </h2>\n",
    "\n",
    "- The dataset obtained has been scraped from https://www.beautybay.com/ \n",
    "- It contains a product_type, brand_name, product_description, price and quantity columns\n",
    "- There are five types of products (cleansers, moisturizers, sunscreen/uv, masks, toner/mist and tools\n",
    "- There are 87 unique brands ('Carbon Theory', 'Mario Badescu', 'forence by is', 'Dr. Paw Paw',\n",
    "       'By BEAUTY BAY', 'Yes To', 'aya skin', 'Faracy', 'Eeis',\n",
    "       'Forua 10.0.6', 'Revoution Skincare', 'COSRX',\n",
    "       'Jeffree Star Cosetics', 'NIOD', 'The Ordinary', 'Apha-H',\n",
    "       'Hoika Hoika', 'InstaNatura', 'Antipodes', 'Anthony',\n",
    "       'Aureia Probiotic Skincare', 'DERMAdoctor', 'Dr. Hauschka',\n",
    "       'Discipe', 'Dr. Botanicas', 'Ebryoisse', 'Foreo', 'Freck', 'rüu',\n",
    "       'HoiFro', 'Institut Estheder', 'L.A. Gir', 'Mehron',\n",
    "       'Naturay Serious', 'Neihbourhood Botanicas', 'Ofra', 'Oh K!',\n",
    "       'PSA Skin', 'Project Lip', 'Peter Thoas Roth', 'Revoution Pro',\n",
    "       'Sand & Sky', 'STARSKIN', 'TONYMOLY', 'UpCirce Beauty',\n",
    "       'West Barn Co', 'NUDESTIX', 'Physicians Forua', 'Cowshed', 'Oskia',\n",
    "       'Taika', 'Generation Cay', 'Jouer Cosetics', 'Saturday Skin',\n",
    "       'Skin79', 'Brushworks', 'Mount Lai', 'Skin Gy', 'Sia Beauty',\n",
    "       'ECookin', 'Kitsch', 'BH Cosetics', 'Cover FX', 'Farsai',\n",
    "       'Linda Haber', 'Miani', 'Revolution Skincare', 'Ultrasun',\n",
    "       'Alpha-H', 'Holika Holika', 'Paul & Joe', 'Elemis',\n",
    "       'Institut Esthederm', 'Embryolisse', 'Soleil Toujours',\n",
    "       'Formula 10.0.6', 'Dr. Lipp', 'Eyptian Maic', 'Jaaican Mano & Lie',\n",
    "       'Aies of Skin', 'Anastasia Bevery His', 'NEOM', 'Pau & Joe',\n",
    "       'Makeup Revoution', 'TAN-LUXE', 'Utrasun', 'Soei Toujours')\n",
    "       \n",
    "       \n",
    "- The product description column describes what a particular product is (examples include 'Get That Grie Face Scrub', Botanica Exfoliatin Scrub' and 'AHA 30% + BHA 2% Peeling Soution'\n",
    "       \n",
    "  \n"
   ]
  },
  {
   "cell_type": "code",
   "execution_count": 53,
   "metadata": {},
   "outputs": [],
   "source": [
    "#reading csv file\n",
    "\n",
    "skincare_df_new=pd.read_csv('../datasets/skincare_df_new.csv')"
   ]
  },
  {
   "cell_type": "markdown",
   "metadata": {},
   "source": []
  },
  {
   "cell_type": "markdown",
   "metadata": {},
   "source": [
    "<h2> Creating a python function to clean the data</h2>\n",
    "\n",
    "The function removes:\n",
    "    \n",
    "    - Extra columns\n",
    "    -creates a new index\n",
    "    - strips $ sign from the price column\n",
    "    \n",
    "    \n",
    "    "
   ]
  },
  {
   "cell_type": "code",
   "execution_count": 54,
   "metadata": {},
   "outputs": [],
   "source": [
    "#creating a python function to remove unnamed column, prod_idx and dollar sign in price\n",
    "\n",
    "def clear(df):\n",
    "    df.drop(columns=['Unnamed: 0',\n",
    "                    'prod_idx'],inplace=True)\n",
    "    df.reset_index(inplace=True)\n",
    "    df.rename(columns={'index':'id'},inplace=True) #renaming index col\n",
    "    \n",
    "    df['price']=df['price'].apply(lambda x:x.strip('$'))\n",
    "    \n",
    "    return df.reset_index()\n",
    "\n"
   ]
  },
  {
   "cell_type": "markdown",
   "metadata": {},
   "source": [
    "<h2> Applying function to the skincare dataset </h2>"
   ]
  },
  {
   "cell_type": "code",
   "execution_count": null,
   "metadata": {},
   "outputs": [],
   "source": [
    "#applying the python function\n",
    "clear(skincare_df_new)"
   ]
  },
  {
   "cell_type": "markdown",
   "metadata": {},
   "source": [
    "<h2> Creation of Connection and Cursor </h2>"
   ]
  },
  {
   "cell_type": "code",
   "execution_count": 144,
   "metadata": {},
   "outputs": [],
   "source": [
    "#defining connection and cursor\n",
    "\n",
    "connection=sqlite3.connect('skincare_p.db',timeout=10)\n",
    "\n",
    "cursor=connection.cursor()"
   ]
  },
  {
   "cell_type": "markdown",
   "metadata": {},
   "source": [
    "<h2> Creation of skincare table </h2>"
   ]
  },
  {
   "cell_type": "code",
   "execution_count": 145,
   "metadata": {},
   "outputs": [
    {
     "data": {
      "text/plain": [
       "<sqlite3.Cursor at 0x1b5a1e7cc70>"
      ]
     },
     "execution_count": 145,
     "metadata": {},
     "output_type": "execute_result"
    }
   ],
   "source": [
    "#creating a table for all skincare products\n",
    "\n",
    "command_1=\"\"\"CREATE TABLE IF NOT EXISTS \n",
    "skincare(id SERIAL PRIMARY KEY,\n",
    "product_type TEXT NOT NULL,\n",
    "brand_name VARCHAR(50) NOT NULL,\n",
    "product_description VARCHAR(100) NOT NULL,\n",
    "price DECIMAL NOT NULL,\n",
    "quantity INTEGER NOT NULL\n",
    ")\n",
    "\n",
    "\"\"\"\n",
    "\n",
    "cursor.execute(command_1)"
   ]
  },
  {
   "cell_type": "code",
   "execution_count": 152,
   "metadata": {},
   "outputs": [
    {
     "data": {
      "text/plain": [
       "<sqlite3.Cursor at 0x1b5a1e7cc70>"
      ]
     },
     "execution_count": 152,
     "metadata": {},
     "output_type": "execute_result"
    }
   ],
   "source": [
    "cursor.execute(command_1)"
   ]
  },
  {
   "cell_type": "code",
   "execution_count": 147,
   "metadata": {},
   "outputs": [],
   "source": [
    "connection.commit()"
   ]
  },
  {
   "cell_type": "markdown",
   "metadata": {},
   "source": [
    "<h2> Table is empty since no data has been fed </h2>"
   ]
  },
  {
   "cell_type": "code",
   "execution_count": 148,
   "metadata": {},
   "outputs": [
    {
     "name": "stdout",
     "output_type": "stream",
     "text": [
      "[]\n"
     ]
    }
   ],
   "source": [
    "#checking if table exists\n",
    "cursor.execute(\"\"\"\n",
    "SELECT *\n",
    "FROM skincare\"\"\")\n",
    "\n",
    "results=cursor.fetchall()\n",
    "print(results)  #since we have not added any data, it is empty"
   ]
  },
  {
   "cell_type": "markdown",
   "metadata": {},
   "source": [
    "<h2> Adding new entries into skincare table </h2>"
   ]
  },
  {
   "cell_type": "code",
   "execution_count": 151,
   "metadata": {},
   "outputs": [],
   "source": [
    "add_new_entry=\"\"\"\n",
    "       INSERT INTO skincare\n",
    "       (id,product_type,brand_name,product_description,price,quantity)\n",
    "       VALUES(?,?,?,?,?,?)\n",
    "\n",
    "\n",
    "\"\"\"\n",
    "\n",
    "for index,row in skincare_df_new.iterrows():\n",
    "    sub_values = (row['id'],row['product_type'],row['brand_name'],row['product_description'],\n",
    "                  row['price'],row['quantity'])\n",
    "    \n",
    "    cursor.execute(add_new_entry,sub_values)\n",
    "    \n",
    "connection.commit()"
   ]
  },
  {
   "cell_type": "markdown",
   "metadata": {},
   "source": [
    "<h3> Now the table is ready and we can run our queries </h3>"
   ]
  },
  {
   "cell_type": "markdown",
   "metadata": {},
   "source": [
    "<h2> Query 1) </h2>\n",
    "\n",
    "Reading a simple Query "
   ]
  },
  {
   "cell_type": "code",
   "execution_count": 155,
   "metadata": {},
   "outputs": [
    {
     "data": {
      "text/html": [
       "<div>\n",
       "<style scoped>\n",
       "    .dataframe tbody tr th:only-of-type {\n",
       "        vertical-align: middle;\n",
       "    }\n",
       "\n",
       "    .dataframe tbody tr th {\n",
       "        vertical-align: top;\n",
       "    }\n",
       "\n",
       "    .dataframe thead th {\n",
       "        text-align: right;\n",
       "    }\n",
       "</style>\n",
       "<table border=\"1\" class=\"dataframe\">\n",
       "  <thead>\n",
       "    <tr style=\"text-align: right;\">\n",
       "      <th></th>\n",
       "      <th>id</th>\n",
       "      <th>product_type</th>\n",
       "      <th>brand_name</th>\n",
       "      <th>product_description</th>\n",
       "      <th>price</th>\n",
       "      <th>quantity</th>\n",
       "    </tr>\n",
       "  </thead>\n",
       "  <tbody>\n",
       "    <tr>\n",
       "      <th>0</th>\n",
       "      <td>0</td>\n",
       "      <td>cleansers</td>\n",
       "      <td>Carbon Theory</td>\n",
       "      <td>Ceansin Bar</td>\n",
       "      <td>9.00</td>\n",
       "      <td>100</td>\n",
       "    </tr>\n",
       "    <tr>\n",
       "      <th>1</th>\n",
       "      <td>1</td>\n",
       "      <td>cleansers</td>\n",
       "      <td>Mario Badescu</td>\n",
       "      <td>Acne Facia Ceanser</td>\n",
       "      <td>20.25</td>\n",
       "      <td>177</td>\n",
       "    </tr>\n",
       "    <tr>\n",
       "      <th>2</th>\n",
       "      <td>2</td>\n",
       "      <td>cleansers</td>\n",
       "      <td>forence by is</td>\n",
       "      <td>Get That Grie Face Scrub</td>\n",
       "      <td>13.50</td>\n",
       "      <td>50</td>\n",
       "    </tr>\n",
       "    <tr>\n",
       "      <th>3</th>\n",
       "      <td>3</td>\n",
       "      <td>cleansers</td>\n",
       "      <td>Dr. Paw Paw</td>\n",
       "      <td>Scru Nourish</td>\n",
       "      <td>12.00</td>\n",
       "      <td>16</td>\n",
       "    </tr>\n",
       "    <tr>\n",
       "      <th>4</th>\n",
       "      <td>4</td>\n",
       "      <td>cleansers</td>\n",
       "      <td>Mario Badescu</td>\n",
       "      <td>Botanica Exfoiatin Scrub</td>\n",
       "      <td>34.50</td>\n",
       "      <td>100</td>\n",
       "    </tr>\n",
       "  </tbody>\n",
       "</table>\n",
       "</div>"
      ],
      "text/plain": [
       "   id product_type     brand_name        product_description  price  quantity\n",
       "0   0    cleansers  Carbon Theory               Ceansin Bar    9.00       100\n",
       "1   1    cleansers  Mario Badescu        Acne Facia Ceanser   20.25       177\n",
       "2   2    cleansers  forence by is  Get That Grie Face Scrub   13.50        50\n",
       "3   3    cleansers    Dr. Paw Paw              Scru Nourish   12.00        16\n",
       "4   4    cleansers  Mario Badescu  Botanica Exfoiatin Scrub   34.50       100"
      ]
     },
     "execution_count": 155,
     "metadata": {},
     "output_type": "execute_result"
    }
   ],
   "source": [
    "#reading a simple query\n",
    "\n",
    "pd.read_sql_query(\"\"\"SELECT *\n",
    "                    FROM skincare\n",
    "                    LIMIT 5\"\"\",connection)\n",
    "                           "
   ]
  },
  {
   "cell_type": "markdown",
   "metadata": {},
   "source": [
    "<h2> Query 2)  </h2>\n",
    "\n",
    "Finding Average prices by product Type"
   ]
  },
  {
   "cell_type": "code",
   "execution_count": 156,
   "metadata": {},
   "outputs": [
    {
     "data": {
      "text/html": [
       "<div>\n",
       "<style scoped>\n",
       "    .dataframe tbody tr th:only-of-type {\n",
       "        vertical-align: middle;\n",
       "    }\n",
       "\n",
       "    .dataframe tbody tr th {\n",
       "        vertical-align: top;\n",
       "    }\n",
       "\n",
       "    .dataframe thead th {\n",
       "        text-align: right;\n",
       "    }\n",
       "</style>\n",
       "<table border=\"1\" class=\"dataframe\">\n",
       "  <thead>\n",
       "    <tr style=\"text-align: right;\">\n",
       "      <th></th>\n",
       "      <th>product_type</th>\n",
       "      <th>avg_price</th>\n",
       "    </tr>\n",
       "  </thead>\n",
       "  <tbody>\n",
       "    <tr>\n",
       "      <th>0</th>\n",
       "      <td>tools</td>\n",
       "      <td>120.83</td>\n",
       "    </tr>\n",
       "    <tr>\n",
       "      <th>1</th>\n",
       "      <td>sunscreen/uv</td>\n",
       "      <td>38.79</td>\n",
       "    </tr>\n",
       "    <tr>\n",
       "      <th>2</th>\n",
       "      <td>moisturizers</td>\n",
       "      <td>36.77</td>\n",
       "    </tr>\n",
       "    <tr>\n",
       "      <th>3</th>\n",
       "      <td>masks</td>\n",
       "      <td>28.77</td>\n",
       "    </tr>\n",
       "    <tr>\n",
       "      <th>4</th>\n",
       "      <td>cleansers</td>\n",
       "      <td>24.53</td>\n",
       "    </tr>\n",
       "    <tr>\n",
       "      <th>5</th>\n",
       "      <td>toner/mist</td>\n",
       "      <td>23.10</td>\n",
       "    </tr>\n",
       "  </tbody>\n",
       "</table>\n",
       "</div>"
      ],
      "text/plain": [
       "   product_type  avg_price\n",
       "0         tools     120.83\n",
       "1  sunscreen/uv      38.79\n",
       "2  moisturizers      36.77\n",
       "3         masks      28.77\n",
       "4     cleansers      24.53\n",
       "5    toner/mist      23.10"
      ]
     },
     "execution_count": 156,
     "metadata": {},
     "output_type": "execute_result"
    }
   ],
   "source": [
    "pd.read_sql_query(\"\"\" SELECT product_type, round(avg(price),2) as avg_price\n",
    "                      FROM skincare\n",
    "                      GROUP BY 1\n",
    "                      ORDER BY 2 DESC\n",
    "                      \n",
    "\n",
    "\n",
    "                \"\"\",connection)"
   ]
  },
  {
   "cell_type": "markdown",
   "metadata": {},
   "source": [
    "<b> Inference: </b>\n",
    "    \n",
    "From the above table, tools are considered the most expensive product to be sold on beautybay website. Toners/mist on the other hand are the most affordable products sold"
   ]
  },
  {
   "cell_type": "markdown",
   "metadata": {},
   "source": [
    "<h2> Query 3) </h2>\n",
    "\n",
    "Hypothetical Customer A is looking for an AHA peel for exfoliation and is looking for products below $30.\n",
    "Execute a query to provide a few recommendations "
   ]
  },
  {
   "cell_type": "code",
   "execution_count": 175,
   "metadata": {},
   "outputs": [
    {
     "data": {
      "text/html": [
       "<div>\n",
       "<style scoped>\n",
       "    .dataframe tbody tr th:only-of-type {\n",
       "        vertical-align: middle;\n",
       "    }\n",
       "\n",
       "    .dataframe tbody tr th {\n",
       "        vertical-align: top;\n",
       "    }\n",
       "\n",
       "    .dataframe thead th {\n",
       "        text-align: right;\n",
       "    }\n",
       "</style>\n",
       "<table border=\"1\" class=\"dataframe\">\n",
       "  <thead>\n",
       "    <tr style=\"text-align: right;\">\n",
       "      <th></th>\n",
       "      <th>brand_name</th>\n",
       "      <th>price</th>\n",
       "      <th>product_description</th>\n",
       "    </tr>\n",
       "  </thead>\n",
       "  <tbody>\n",
       "    <tr>\n",
       "      <th>0</th>\n",
       "      <td>The Ordinary</td>\n",
       "      <td>10</td>\n",
       "      <td>AHA 30% + BHA 2% Peein Soution</td>\n",
       "    </tr>\n",
       "    <tr>\n",
       "      <th>1</th>\n",
       "      <td>The Ordinary</td>\n",
       "      <td>10</td>\n",
       "      <td>AHA 30% + BHA 2% Peein Soution</td>\n",
       "    </tr>\n",
       "    <tr>\n",
       "      <th>2</th>\n",
       "      <td>Mario Badescu</td>\n",
       "      <td>24</td>\n",
       "      <td>Roin Crea Pee With AHA</td>\n",
       "    </tr>\n",
       "    <tr>\n",
       "      <th>3</th>\n",
       "      <td>Mario Badescu</td>\n",
       "      <td>27</td>\n",
       "      <td>AHA &amp; Ceraide Moisturizer</td>\n",
       "    </tr>\n",
       "  </tbody>\n",
       "</table>\n",
       "</div>"
      ],
      "text/plain": [
       "      brand_name  price              product_description\n",
       "0   The Ordinary     10  AHA 30% + BHA 2% Peein Soution \n",
       "1   The Ordinary     10  AHA 30% + BHA 2% Peein Soution \n",
       "2  Mario Badescu     24          Roin Crea Pee With AHA \n",
       "3  Mario Badescu     27       AHA & Ceraide Moisturizer "
      ]
     },
     "execution_count": 175,
     "metadata": {},
     "output_type": "execute_result"
    }
   ],
   "source": [
    "pd.read_sql_query(\"\"\" SELECT brand_name, price, product_description\n",
    "                     FROM skincare\n",
    "                     WHERE product_description LIKE '%AHA%'\n",
    "                     and price<30\n",
    "                     ORDER BY 2\n",
    "                    \n",
    "                    \n",
    "                \"\"\",connection)"
   ]
  },
  {
   "cell_type": "markdown",
   "metadata": {},
   "source": [
    "<b> Inference </b> \n",
    "\n",
    "Products from both The Ordinary and Mario Badescu could be recommended to the customer\n",
    "looking for products with AHA \n",
    "\n"
   ]
  },
  {
   "cell_type": "markdown",
   "metadata": {},
   "source": [
    "<h2> Query 4) </h2>\n",
    "\n",
    "Ranking the products by product type from most affordable to the most expensive product\n",
    "\n"
   ]
  },
  {
   "cell_type": "code",
   "execution_count": 273,
   "metadata": {},
   "outputs": [
    {
     "data": {
      "text/html": [
       "<div>\n",
       "<style scoped>\n",
       "    .dataframe tbody tr th:only-of-type {\n",
       "        vertical-align: middle;\n",
       "    }\n",
       "\n",
       "    .dataframe tbody tr th {\n",
       "        vertical-align: top;\n",
       "    }\n",
       "\n",
       "    .dataframe thead th {\n",
       "        text-align: right;\n",
       "    }\n",
       "</style>\n",
       "<table border=\"1\" class=\"dataframe\">\n",
       "  <thead>\n",
       "    <tr style=\"text-align: right;\">\n",
       "      <th></th>\n",
       "      <th>brand_name</th>\n",
       "      <th>product_description</th>\n",
       "      <th>product_type</th>\n",
       "      <th>rank</th>\n",
       "      <th>price</th>\n",
       "    </tr>\n",
       "  </thead>\n",
       "  <tbody>\n",
       "    <tr>\n",
       "      <th>0</th>\n",
       "      <td>Peter Thoas Roth</td>\n",
       "      <td>Peptide 21 Aino Acid Exfoiatin Pee Pads</td>\n",
       "      <td>cleansers</td>\n",
       "      <td>1</td>\n",
       "      <td>67.75</td>\n",
       "    </tr>\n",
       "    <tr>\n",
       "      <th>1</th>\n",
       "      <td>Sand &amp; Sky</td>\n",
       "      <td>Austraian Eu Appe Enzye Powder Poish</td>\n",
       "      <td>cleansers</td>\n",
       "      <td>2</td>\n",
       "      <td>67.25</td>\n",
       "    </tr>\n",
       "    <tr>\n",
       "      <th>2</th>\n",
       "      <td>Eeis</td>\n",
       "      <td>Pro-Coaen Ceansin Ba</td>\n",
       "      <td>cleansers</td>\n",
       "      <td>3</td>\n",
       "      <td>64.25</td>\n",
       "    </tr>\n",
       "    <tr>\n",
       "      <th>3</th>\n",
       "      <td>Eeis</td>\n",
       "      <td>Pro-Coaen Rose Ceansin Ba</td>\n",
       "      <td>cleansers</td>\n",
       "      <td>3</td>\n",
       "      <td>64.25</td>\n",
       "    </tr>\n",
       "    <tr>\n",
       "      <th>4</th>\n",
       "      <td>Aureia Probiotic Skincare</td>\n",
       "      <td>Mirace Ceanser</td>\n",
       "      <td>cleansers</td>\n",
       "      <td>4</td>\n",
       "      <td>63.00</td>\n",
       "    </tr>\n",
       "    <tr>\n",
       "      <th>...</th>\n",
       "      <td>...</td>\n",
       "      <td>...</td>\n",
       "      <td>...</td>\n",
       "      <td>...</td>\n",
       "      <td>...</td>\n",
       "    </tr>\n",
       "    <tr>\n",
       "      <th>1013</th>\n",
       "      <td>Sia Beauty</td>\n",
       "      <td>S20 Eye Crea Brush</td>\n",
       "      <td>tools</td>\n",
       "      <td>20</td>\n",
       "      <td>16.50</td>\n",
       "    </tr>\n",
       "    <tr>\n",
       "      <th>1014</th>\n",
       "      <td>Brushworks</td>\n",
       "      <td>HD Backhead &amp; Beish Reover Set</td>\n",
       "      <td>tools</td>\n",
       "      <td>21</td>\n",
       "      <td>15.00</td>\n",
       "    </tr>\n",
       "    <tr>\n",
       "      <th>1015</th>\n",
       "      <td>Sia Beauty</td>\n",
       "      <td>S02 Spatua Brush</td>\n",
       "      <td>tools</td>\n",
       "      <td>22</td>\n",
       "      <td>13.00</td>\n",
       "    </tr>\n",
       "    <tr>\n",
       "      <th>1016</th>\n",
       "      <td>Kitsch</td>\n",
       "      <td>Eco-Friendy Derapaners</td>\n",
       "      <td>tools</td>\n",
       "      <td>23</td>\n",
       "      <td>10.75</td>\n",
       "    </tr>\n",
       "    <tr>\n",
       "      <th>1017</th>\n",
       "      <td>Hoika Hoika</td>\n",
       "      <td>Maic Too Bubbe Maker</td>\n",
       "      <td>tools</td>\n",
       "      <td>24</td>\n",
       "      <td>4.25</td>\n",
       "    </tr>\n",
       "  </tbody>\n",
       "</table>\n",
       "<p>1018 rows × 5 columns</p>\n",
       "</div>"
      ],
      "text/plain": [
       "                     brand_name                       product_description  \\\n",
       "0              Peter Thoas Roth  Peptide 21 Aino Acid Exfoiatin Pee Pads    \n",
       "1                    Sand & Sky     Austraian Eu Appe Enzye Powder Poish    \n",
       "2                          Eeis                     Pro-Coaen Ceansin Ba    \n",
       "3                          Eeis                Pro-Coaen Rose Ceansin Ba    \n",
       "4     Aureia Probiotic Skincare                           Mirace Ceanser    \n",
       "...                         ...                                       ...   \n",
       "1013                 Sia Beauty                        S20 Eye Crea Brush   \n",
       "1014                 Brushworks           HD Backhead & Beish Reover Set    \n",
       "1015                 Sia Beauty                          S02 Spatua Brush   \n",
       "1016                     Kitsch                   Eco-Friendy Derapaners    \n",
       "1017                Hoika Hoika                     Maic Too Bubbe Maker    \n",
       "\n",
       "     product_type  rank  price  \n",
       "0       cleansers     1  67.75  \n",
       "1       cleansers     2  67.25  \n",
       "2       cleansers     3  64.25  \n",
       "3       cleansers     3  64.25  \n",
       "4       cleansers     4  63.00  \n",
       "...           ...   ...    ...  \n",
       "1013        tools    20  16.50  \n",
       "1014        tools    21  15.00  \n",
       "1015        tools    22  13.00  \n",
       "1016        tools    23  10.75  \n",
       "1017        tools    24   4.25  \n",
       "\n",
       "[1018 rows x 5 columns]"
      ]
     },
     "execution_count": 273,
     "metadata": {},
     "output_type": "execute_result"
    }
   ],
   "source": [
    "pd.read_sql_query(\"\"\" SELECT brand_name,product_description, product_type,\n",
    "                       DENSE_RANK() OVER(PARTITION BY product_type\n",
    "                       ORDER BY price DESC \n",
    "                       ) as rank, price\n",
    "                     FROM skincare\n",
    "                \"\"\",connection)\n",
    "\n"
   ]
  },
  {
   "cell_type": "markdown",
   "metadata": {},
   "source": [
    "<h2> Query 5) </h2>\n",
    "\n",
    "Find minimum, avg and maximum product price by brand"
   ]
  },
  {
   "cell_type": "code",
   "execution_count": 191,
   "metadata": {},
   "outputs": [
    {
     "data": {
      "text/html": [
       "<div>\n",
       "<style scoped>\n",
       "    .dataframe tbody tr th:only-of-type {\n",
       "        vertical-align: middle;\n",
       "    }\n",
       "\n",
       "    .dataframe tbody tr th {\n",
       "        vertical-align: top;\n",
       "    }\n",
       "\n",
       "    .dataframe thead th {\n",
       "        text-align: right;\n",
       "    }\n",
       "</style>\n",
       "<table border=\"1\" class=\"dataframe\">\n",
       "  <thead>\n",
       "    <tr style=\"text-align: right;\">\n",
       "      <th></th>\n",
       "      <th>brand_name</th>\n",
       "      <th>min</th>\n",
       "      <th>avg</th>\n",
       "      <th>max</th>\n",
       "    </tr>\n",
       "  </thead>\n",
       "  <tbody>\n",
       "    <tr>\n",
       "      <th>0</th>\n",
       "      <td>Aies of Skin</td>\n",
       "      <td>108.3</td>\n",
       "      <td>108.3</td>\n",
       "      <td>108.3</td>\n",
       "    </tr>\n",
       "    <tr>\n",
       "      <th>1</th>\n",
       "      <td>Alpha-H</td>\n",
       "      <td>24.8</td>\n",
       "      <td>30.2</td>\n",
       "      <td>34.5</td>\n",
       "    </tr>\n",
       "    <tr>\n",
       "      <th>2</th>\n",
       "      <td>Anastasia Bevery His</td>\n",
       "      <td>53.7</td>\n",
       "      <td>53.7</td>\n",
       "      <td>53.7</td>\n",
       "    </tr>\n",
       "    <tr>\n",
       "      <th>3</th>\n",
       "      <td>Anthony</td>\n",
       "      <td>12.0</td>\n",
       "      <td>43.9</td>\n",
       "      <td>82.8</td>\n",
       "    </tr>\n",
       "    <tr>\n",
       "      <th>4</th>\n",
       "      <td>Antipodes</td>\n",
       "      <td>10.3</td>\n",
       "      <td>30.3</td>\n",
       "      <td>52.3</td>\n",
       "    </tr>\n",
       "    <tr>\n",
       "      <th>...</th>\n",
       "      <td>...</td>\n",
       "      <td>...</td>\n",
       "      <td>...</td>\n",
       "      <td>...</td>\n",
       "    </tr>\n",
       "    <tr>\n",
       "      <th>82</th>\n",
       "      <td>West Barn Co</td>\n",
       "      <td>30.0</td>\n",
       "      <td>30.0</td>\n",
       "      <td>30.0</td>\n",
       "    </tr>\n",
       "    <tr>\n",
       "      <th>83</th>\n",
       "      <td>Yes To</td>\n",
       "      <td>2.5</td>\n",
       "      <td>11.7</td>\n",
       "      <td>18.0</td>\n",
       "    </tr>\n",
       "    <tr>\n",
       "      <th>84</th>\n",
       "      <td>aya skin</td>\n",
       "      <td>18.8</td>\n",
       "      <td>29.1</td>\n",
       "      <td>45.0</td>\n",
       "    </tr>\n",
       "    <tr>\n",
       "      <th>85</th>\n",
       "      <td>forence by is</td>\n",
       "      <td>9.0</td>\n",
       "      <td>20.9</td>\n",
       "      <td>33.0</td>\n",
       "    </tr>\n",
       "    <tr>\n",
       "      <th>86</th>\n",
       "      <td>rüu</td>\n",
       "      <td>10.5</td>\n",
       "      <td>11.6</td>\n",
       "      <td>12.0</td>\n",
       "    </tr>\n",
       "  </tbody>\n",
       "</table>\n",
       "<p>87 rows × 4 columns</p>\n",
       "</div>"
      ],
      "text/plain": [
       "              brand_name    min    avg    max\n",
       "0           Aies of Skin  108.3  108.3  108.3\n",
       "1                Alpha-H   24.8   30.2   34.5\n",
       "2   Anastasia Bevery His   53.7   53.7   53.7\n",
       "3                Anthony   12.0   43.9   82.8\n",
       "4              Antipodes   10.3   30.3   52.3\n",
       "..                   ...    ...    ...    ...\n",
       "82          West Barn Co   30.0   30.0   30.0\n",
       "83                Yes To    2.5   11.7   18.0\n",
       "84              aya skin   18.8   29.1   45.0\n",
       "85         forence by is    9.0   20.9   33.0\n",
       "86                   rüu   10.5   11.6   12.0\n",
       "\n",
       "[87 rows x 4 columns]"
      ]
     },
     "execution_count": 191,
     "metadata": {},
     "output_type": "execute_result"
    }
   ],
   "source": [
    "pd.read_sql_query(\"\"\"\n",
    "                SELECT brand_name, round(min(price),1) as min,\n",
    "                round(avg(price),1) as avg,round(max(price),1) as max\n",
    "                FROM skincare\n",
    "                GROUP BY brand_name\n",
    "              \"\"\",connection)"
   ]
  },
  {
   "cell_type": "markdown",
   "metadata": {},
   "source": [
    "<h2> Query 6 </h2>\n",
    "\n",
    "Find the most affordable and expensive products and price by brand name"
   ]
  },
  {
   "cell_type": "code",
   "execution_count": 235,
   "metadata": {},
   "outputs": [
    {
     "data": {
      "text/html": [
       "<div>\n",
       "<style scoped>\n",
       "    .dataframe tbody tr th:only-of-type {\n",
       "        vertical-align: middle;\n",
       "    }\n",
       "\n",
       "    .dataframe tbody tr th {\n",
       "        vertical-align: top;\n",
       "    }\n",
       "\n",
       "    .dataframe thead th {\n",
       "        text-align: right;\n",
       "    }\n",
       "</style>\n",
       "<table border=\"1\" class=\"dataframe\">\n",
       "  <thead>\n",
       "    <tr style=\"text-align: right;\">\n",
       "      <th></th>\n",
       "      <th>brand_name</th>\n",
       "      <th>price</th>\n",
       "      <th>affordable_product</th>\n",
       "      <th>price_max</th>\n",
       "      <th>most_expensive_product</th>\n",
       "    </tr>\n",
       "  </thead>\n",
       "  <tbody>\n",
       "    <tr>\n",
       "      <th>0</th>\n",
       "      <td>Aies of Skin</td>\n",
       "      <td>108.25</td>\n",
       "      <td>Muti Hyauronic Antioxidant Hydration Seru</td>\n",
       "      <td>108.25</td>\n",
       "      <td>Muti Hyauronic Antioxidant Hydration Seru</td>\n",
       "    </tr>\n",
       "    <tr>\n",
       "      <th>1</th>\n",
       "      <td>Alpha-H</td>\n",
       "      <td>24.75</td>\n",
       "      <td>Absolute Lip Perfector</td>\n",
       "      <td>34.50</td>\n",
       "      <td>Protection Plus Daily SPF 50+</td>\n",
       "    </tr>\n",
       "    <tr>\n",
       "      <th>2</th>\n",
       "      <td>Anastasia Bevery His</td>\n",
       "      <td>53.70</td>\n",
       "      <td>Hydratin Oi</td>\n",
       "      <td>53.70</td>\n",
       "      <td>Hydratin Oi</td>\n",
       "    </tr>\n",
       "    <tr>\n",
       "      <th>3</th>\n",
       "      <td>Anthony</td>\n",
       "      <td>12.00</td>\n",
       "      <td>A-Purpose Facia Moisturizer</td>\n",
       "      <td>82.75</td>\n",
       "      <td>Purifyin Astrinent Pads</td>\n",
       "    </tr>\n",
       "    <tr>\n",
       "      <th>4</th>\n",
       "      <td>Antipodes</td>\n",
       "      <td>10.25</td>\n",
       "      <td>Aura Manuka Honey Mask</td>\n",
       "      <td>52.25</td>\n",
       "      <td>Vania Pod Hydratin Day Crea</td>\n",
       "    </tr>\n",
       "    <tr>\n",
       "      <th>...</th>\n",
       "      <td>...</td>\n",
       "      <td>...</td>\n",
       "      <td>...</td>\n",
       "      <td>...</td>\n",
       "      <td>...</td>\n",
       "    </tr>\n",
       "    <tr>\n",
       "      <th>82</th>\n",
       "      <td>West Barn Co</td>\n",
       "      <td>30.00</td>\n",
       "      <td>Bo Myrte And Lie Baancin Ceanser</td>\n",
       "      <td>30.00</td>\n",
       "      <td>Bo Myrte And Lie Baancin Ceanser</td>\n",
       "    </tr>\n",
       "    <tr>\n",
       "      <th>83</th>\n",
       "      <td>Yes To</td>\n",
       "      <td>2.50</td>\n",
       "      <td>Coconut &amp; Coffee 2-in-1 Scrub &amp; Ceanser Stick</td>\n",
       "      <td>18.00</td>\n",
       "      <td>Yes To Coconut Oi Ceansin Ba</td>\n",
       "    </tr>\n",
       "    <tr>\n",
       "      <th>84</th>\n",
       "      <td>aya skin</td>\n",
       "      <td>18.75</td>\n",
       "      <td>Austraian Native Berries Moisturiser</td>\n",
       "      <td>45.00</td>\n",
       "      <td>Poeranate Facia Exfoiator</td>\n",
       "    </tr>\n",
       "    <tr>\n",
       "      <th>85</th>\n",
       "      <td>forence by is</td>\n",
       "      <td>9.00</td>\n",
       "      <td>16 Wishes Better Toether Pee Off Mask Duo</td>\n",
       "      <td>33.00</td>\n",
       "      <td>Zero Chi Face Mist</td>\n",
       "    </tr>\n",
       "    <tr>\n",
       "      <th>86</th>\n",
       "      <td>rüu</td>\n",
       "      <td>10.50</td>\n",
       "      <td>kóri Exfoiatin Face Wash</td>\n",
       "      <td>12.00</td>\n",
       "      <td>östa Facia Tonic</td>\n",
       "    </tr>\n",
       "  </tbody>\n",
       "</table>\n",
       "<p>87 rows × 5 columns</p>\n",
       "</div>"
      ],
      "text/plain": [
       "              brand_name   price  \\\n",
       "0           Aies of Skin  108.25   \n",
       "1                Alpha-H   24.75   \n",
       "2   Anastasia Bevery His   53.70   \n",
       "3                Anthony   12.00   \n",
       "4              Antipodes   10.25   \n",
       "..                   ...     ...   \n",
       "82          West Barn Co   30.00   \n",
       "83                Yes To    2.50   \n",
       "84              aya skin   18.75   \n",
       "85         forence by is    9.00   \n",
       "86                   rüu   10.50   \n",
       "\n",
       "                                affordable_product  price_max  \\\n",
       "0       Muti Hyauronic Antioxidant Hydration Seru      108.25   \n",
       "1                          Absolute Lip Perfector       34.50   \n",
       "2                                     Hydratin Oi       53.70   \n",
       "3                     A-Purpose Facia Moisturizer       82.75   \n",
       "4                          Aura Manuka Honey Mask       52.25   \n",
       "..                                             ...        ...   \n",
       "82               Bo Myrte And Lie Baancin Ceanser       30.00   \n",
       "83  Coconut & Coffee 2-in-1 Scrub & Ceanser Stick       18.00   \n",
       "84           Austraian Native Berries Moisturiser       45.00   \n",
       "85      16 Wishes Better Toether Pee Off Mask Duo       33.00   \n",
       "86                       kóri Exfoiatin Face Wash       12.00   \n",
       "\n",
       "                        most_expensive_product  \n",
       "0   Muti Hyauronic Antioxidant Hydration Seru   \n",
       "1               Protection Plus Daily SPF 50+   \n",
       "2                                 Hydratin Oi   \n",
       "3                     Purifyin Astrinent Pads   \n",
       "4                 Vania Pod Hydratin Day Crea   \n",
       "..                                         ...  \n",
       "82           Bo Myrte And Lie Baancin Ceanser   \n",
       "83               Yes To Coconut Oi Ceansin Ba   \n",
       "84                  Poeranate Facia Exfoiator   \n",
       "85                         Zero Chi Face Mist   \n",
       "86                           östa Facia Tonic   \n",
       "\n",
       "[87 rows x 5 columns]"
      ]
     },
     "execution_count": 235,
     "metadata": {},
     "output_type": "execute_result"
    }
   ],
   "source": [
    "pd.read_sql_query(\"\"\"\n",
    "                SELECT brand_name, \n",
    "                min(price) as price,\n",
    "                min(product_description) as affordable_product,\n",
    "                \n",
    "                max(price) as price_max,\n",
    "                max(product_description) as most_expensive_product\n",
    "        \n",
    "                FROM skincare\n",
    "                GROUP BY brand_name\n",
    "              \"\"\",connection)"
   ]
  },
  {
   "cell_type": "markdown",
   "metadata": {},
   "source": [
    "<h3> The End </h3>"
   ]
  }
 ],
 "metadata": {
  "kernelspec": {
   "display_name": "Python 3",
   "language": "python",
   "name": "python3"
  },
  "language_info": {
   "codemirror_mode": {
    "name": "ipython",
    "version": 3
   },
   "file_extension": ".py",
   "mimetype": "text/x-python",
   "name": "python",
   "nbconvert_exporter": "python",
   "pygments_lexer": "ipython3",
   "version": "3.8.5"
  }
 },
 "nbformat": 4,
 "nbformat_minor": 4
}
